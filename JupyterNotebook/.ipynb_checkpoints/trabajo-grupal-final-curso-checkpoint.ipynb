{
 "cells": [
  {
   "cell_type": "markdown",
   "metadata": {},
   "source": [
    "# Análisis de la red de *tweets* y usuarios relacionados con la final de la Liga Uruguaya de Basketball (LUB).\n",
    "\n",
    "\n",
    "\n",
    "\n",
    "\n",
    "\n",
    "## Trabajo final del curso \"De las redes complejas a las redes sociales: Introducción al Uso del Big Data\"\n",
    "\n",
    "\n",
    "### Integrantes del equipo: \n",
    "\n",
    "- Andrea Apolaro\n",
    "- Guzmán López\n",
    "- Leticia Vidal\n",
    "- Ricardo Rezzano\n",
    "\n",
    "\n",
    "## Introducción\n",
    "\n",
    "En el marco del curso ...\n",
    "\n",
    "\n",
    "\n",
    "## Metodología\n",
    "\n",
    "Se utilizó el lenguaje de programación Python (versión 3.6.1) ..."
   ]
  },
  {
   "cell_type": "markdown",
   "metadata": {},
   "source": [
    "Importar librerías "
   ]
  },
  {
   "cell_type": "code",
   "execution_count": 28,
   "metadata": {},
   "outputs": [],
   "source": [
    "# Import python libraries\n",
    "import tweepy\n",
    "import time\n",
    "from random import choice\n",
    "from py2neo import authenticate, Graph\n",
    "import cypher\n",
    "import networkx as nx\n",
    "import numpy"
   ]
  },
  {
   "cell_type": "markdown",
   "metadata": {},
   "source": [
    "Autenticación de Twitter mediante la lectura de un archivo externo con las claves requeridas:"
   ]
  },
  {
   "cell_type": "code",
   "execution_count": 8,
   "metadata": {
    "collapsed": true,
    "scrolled": true
   },
   "outputs": [],
   "source": [
    "import tweepy\n",
    "\n",
    "# Twitter OAuthentication\n",
    "consumer_key = \"XXXXXXXXXX\"\n",
    "consumer_secret = \"XXXXXXXXXX\"\n",
    "access_token = \"XXXXXXXXXX\"\n",
    "access_token_secret = \"XXXXXXXXXX\"\n",
    "\n",
    "auth = tweepy.OAuthHandler(consumer_key, consumer_secret)\n",
    "auth.set_access_token(access_token, access_token_secret)"
   ]
  },
  {
   "cell_type": "code",
   "execution_count": 3,
   "metadata": {
    "collapsed": true,
    "scrolled": true
   },
   "outputs": [],
   "source": [
    "# Twitter authentication credentials and Neo4j credentials\n",
    "with open('/home/guzman/Documentos/Cursos/Redes Complejas - Introducción al uso del Big Data/Python/twitter-OAuth.py') as oauth:\n",
    "    exec(oauth.read())"
   ]
  },
  {
   "cell_type": "markdown",
   "metadata": {},
   "source": [
    "Crear la API (Application Program Interface) de Twitter:"
   ]
  },
  {
   "cell_type": "code",
   "execution_count": 10,
   "metadata": {
    "collapsed": true,
    "scrolled": true
   },
   "outputs": [],
   "source": [
    "# Create API\n",
    "api = tweepy.API(auth, wait_on_rate_limit=True, wait_on_rate_limit_notify=True, compression=True)"
   ]
  },
  {
   "cell_type": "markdown",
   "metadata": {},
   "source": [
    "Comenzar el servicio de la base de datos Neo4j desde una consola:"
   ]
  },
  {
   "cell_type": "code",
   "execution_count": 35,
   "metadata": {},
   "outputs": [
    {
     "name": "stdout",
     "output_type": "stream",
     "text": [
      "● neo4j.service - Neo4j\n",
      "   Loaded: loaded (/usr/lib/systemd/system/neo4j.service; disabled; vendor preset: disabled)\n",
      "   Active: active (running) since Mon 2017-06-05 16:49:27 -03; 45min ago\n",
      "  Process: 4748 ExecStart=/usr/bin/neo4j start (code=exited, status=0/SUCCESS)\n",
      " Main PID: 4808 (java)\n",
      "    Tasks: 67 (limit: 4915)\n",
      "   Memory: 620.8M\n",
      "      CPU: 2min 58.826s\n",
      "   CGroup: /system.slice/neo4j.service\n",
      "           └─4808 /usr/sbin/java -cp /usr/share/java/neo4j/plugins:/etc/neo4j:/usr/share/java/neo4j/*:/usr/share/java/neo4j/plugins/* -server -XX:+UseG1GC -XX:-OmitStackTraceInFastThrow -XX:hashCode=5 -XX:+AlwaysPreTouch -XX:+UnlockExperimentalVMOptions -XX:+TrustFinalNonStaticFields -XX:+DisableExplicitGC -Djdk.tls.ephemeralDHKeySize=2048 -Dunsupported.dbms.udc.source=tarball -Dfile.encoding=UTF-8 org.neo4j.server.CommunityEntryPoint --home-dir=/usr/share/neo4j --config-dir=/etc/neo4j\n",
      "\n",
      "jun 05 16:49:27 carqueja systemd[1]: Starting Neo4j...\n",
      "jun 05 16:49:27 carqueja neo4j[4748]: Starting Neo4j.\n",
      "jun 05 16:49:27 carqueja neo4j[4748]: Started neo4j (pid 4808). By default, it is available at http://localhost:7474/\n",
      "jun 05 16:49:27 carqueja systemd[1]: Started Neo4j.\n"
     ]
    }
   ],
   "source": [
    "%%sh\n",
    "\n",
    "# Start neo4j service \n",
    "sudo systemctl start neo4j.service\n",
    "\n",
    "# Check status of neo4j service\n",
    "systemctl status neo4j.service"
   ]
  },
  {
   "cell_type": "markdown",
   "metadata": {},
   "source": [
    "Autenticación de la base de datos no relacional Neo4j a través de la lectura del archivo externo con las claves de usuario y contraseña requeridas leído anteriormente."
   ]
  },
  {
   "cell_type": "code",
   "execution_count": 4,
   "metadata": {
    "scrolled": true
   },
   "outputs": [],
   "source": [
    "# Neo4j DB graph authentication\n",
    "\n",
    "# Connect to graph\n",
    "url = \"http://localhost:7474/db/data/\"\n",
    "authenticate(\"localhost:7474\", neo4jUser, neo4jPass)\n",
    "graph = Graph(url)\n",
    "\n",
    "# Authentication for cypher package\n",
    "connPar = \"http://\" + neo4jUser + \":\" + neo4jPass + \"@localhost:7474/db/data/\""
   ]
  },
  {
   "cell_type": "markdown",
   "metadata": {},
   "source": [
    "Agregar restricciones de unicidad a la base de datos:"
   ]
  },
  {
   "cell_type": "code",
   "execution_count": null,
   "metadata": {
    "collapsed": true,
    "scrolled": true
   },
   "outputs": [],
   "source": [
    "# Add uniqueness constraints\n",
    "graph.run(\"CREATE CONSTRAINT ON (t:Tweet) ASSERT t.id IS UNIQUE;\")\n",
    "graph.run(\"CREATE CONSTRAINT ON (u:User) ASSERT u.screen_name IS UNIQUE;\")\n",
    "graph.run(\"CREATE CONSTRAINT ON (h:Hashtag) ASSERT h.name IS UNIQUE;\")\n",
    "graph.run(\"CREATE CONSTRAINT ON (l:Link) ASSERT l.url IS UNIQUE;\")\n",
    "graph.run(\"CREATE CONSTRAINT ON (s:Source) ASSERT s.name IS UNIQUE;\")"
   ]
  },
  {
   "cell_type": "markdown",
   "metadata": {},
   "source": [
    "Construir una lista con las palabras clave para la búsqueda de tweets:"
   ]
  },
  {
   "cell_type": "code",
   "execution_count": 16,
   "metadata": {
    "collapsed": true,
    "scrolled": true
   },
   "outputs": [],
   "source": [
    "# Query words\n",
    "queries = [\"aguada\", \"aguatero\", \"hebraica\", \"macabi\", \"finalesLUB\", \"juntosporlanovena\", \"vamossha\", \"finaleslub\"]"
   ]
  },
  {
   "cell_type": "markdown",
   "metadata": {},
   "source": [
    "Crear un archivo de texto vacío para adjuntar (escribir) los nombres de los usuarios de los tweets encontrados:"
   ]
  },
  {
   "cell_type": "code",
   "execution_count": null,
   "metadata": {
    "collapsed": true
   },
   "outputs": [],
   "source": [
    "# Open file connection to append usernames\n",
    "ufile = open(\"usernames_{}.txt\".format(\"aguada-hebraica\"), \"a\")"
   ]
  },
  {
   "cell_type": "markdown",
   "metadata": {},
   "source": [
    "Cargar script de comandos en Cypher como cadena de caracteres"
   ]
  },
  {
   "cell_type": "code",
   "execution_count": null,
   "metadata": {
    "collapsed": true
   },
   "outputs": [],
   "source": [
    "# Pass dict to Cypher and build query from cypher script file\n",
    "with open('/home/guzman/Documentos/GitLab/ComplexNetworks/Cypher/queries-in-script.cypher') as query:\n",
    "    query = query.read()\n",
    "\n",
    "print(query)"
   ]
  },
  {
   "cell_type": "markdown",
   "metadata": {},
   "source": [
    "Definir los parámetros para la búsqueda de los tweets:"
   ]
  },
  {
   "cell_type": "code",
   "execution_count": null,
   "metadata": {
    "collapsed": true
   },
   "outputs": [],
   "source": [
    "# Parameters\n",
    "count = 100 # The number of tweets to return per page, up to a maximum of 100. Defaults to 15.\n",
    "result_type = \"mixed\" # Include both popular and real time results in the response.\n",
    "until = \"2017-06-04\" # Returns tweets created before the given date.\n",
    "lang = \"es\" # Restricts tweets to the given language\n",
    "since_id = -1 # Returns results with an ID greater than (that is, more recent than) the specified ID."
   ]
  },
  {
   "cell_type": "markdown",
   "metadata": {},
   "source": [
    "Definir una función para la búsqueda de tweets que contiene la función de búsqueda de tweets de la librería tweepy y recibe como parámetros las palabras clave de búsqueda y el ID."
   ]
  },
  {
   "cell_type": "code",
   "execution_count": null,
   "metadata": {
    "collapsed": true
   },
   "outputs": [],
   "source": [
    "def search_tweets(query, since_id):\n",
    "    return api.search(q=query, count=count, until=until, result_type=result_type, lang=lang, since_id=since_id)"
   ]
  },
  {
   "cell_type": "markdown",
   "metadata": {},
   "source": [
    "Iterar buscando tweets a partir de las palabras claves en la búsqueda y ejecutando el código importado en Cypher para insertar los registros en la base de datos no relacional de Neo4j. "
   ]
  },
  {
   "cell_type": "code",
   "execution_count": null,
   "metadata": {
    "collapsed": true
   },
   "outputs": [],
   "source": [
    "while True:\n",
    "    try:\n",
    "        q = choice(queries)\n",
    "        tweets = search_tweets(q, since_id)\n",
    "        if tweets:\n",
    "            plural = \"s.\" if len(tweets) > 1 else \".\"\n",
    "            print(\"Found \" + str(len(tweets)) + \" tweet\" + plural)\n",
    "        else:\n",
    "            print(\"No tweets found.\\n\")\n",
    "            time.sleep(65)\n",
    "            continue\n",
    "        \n",
    "        since_id = tweets[0].id\n",
    "\n",
    "        # Send Cypher query.\n",
    "        graph.run(query, tweets=[tweet._json for tweet in tweets])\n",
    "\n",
    "        # adding users to user list\n",
    "        for tweet in tweets:\n",
    "            ufile.write(tweet.user.screen_name+\"\\n\")\n",
    "        print(\"Tweets added to graph! \\n\")\n",
    "        time.sleep(33)\n",
    "\n",
    "    except Exception as e:\n",
    "        print(e)\n",
    "        time.sleep(33)\n",
    "        continue"
   ]
  },
  {
   "cell_type": "markdown",
   "metadata": {},
   "source": [
    "Import graph to python"
   ]
  },
  {
   "cell_type": "code",
   "execution_count": 76,
   "metadata": {},
   "outputs": [
    {
     "name": "stdout",
     "output_type": "stream",
     "text": [
      "1 - ((efde275)-[:POSTS]->(ff9c39b), (fe10090)-[:RETWEETS]->(e01ac8a), (dc701ab)-[:REPLY_TO]->(d82112d), (fe10090)-[:MENTIONS]->(efde275))\n",
      "\n",
      "2 - ((efde275)-[:POSTS]->(ff9c39b), (fe10090)-[:RETWEETS]->(e01ac8a), (dc701ab)-[:REPLY_TO]->(d82112d), (fe10090)-[:MENTIONS]->(f8307ec))\n",
      "\n",
      "3 - ((efde275)-[:POSTS]->(ff9c39b), (fe10090)-[:RETWEETS]->(e01ac8a), (dc701ab)-[:REPLY_TO]->(d82112d), (e01ac8a)-[:MENTIONS]->(f8307ec))\n",
      "\n",
      "4 - ((efde275)-[:POSTS]->(ff9c39b), (fe10090)-[:RETWEETS]->(e01ac8a), (dc701ab)-[:REPLY_TO]->(d82112d), (b68c158)-[:MENTIONS]->(c116eea))\n",
      "\n",
      "5 - ((efde275)-[:POSTS]->(ff9c39b), (fe10090)-[:RETWEETS]->(e01ac8a), (dc701ab)-[:REPLY_TO]->(d82112d), (e117e07)-[:MENTIONS]->(c116eea))\n",
      "\n"
     ]
    }
   ],
   "source": [
    "# Import graph to python - queries\n",
    "# https://nicolewhite.github.io/neo4j-jupyter/hello-world.html\n",
    "\n",
    "# Return all the nodes in the DB\n",
    "# data = graph.run('')\n",
    "\n",
    "data = graph.run('MATCH usPostw=(:User)-[r:POSTS]->(:Tweet) \\\n",
    "                  MATCH twRettw=(:Tweet)-[r2:RETWEETS]->(:Tweet) \\\n",
    "                  MATCH twReptw=(:Tweet)-[r3:REPLY_TO]->(:Tweet) \\\n",
    "                  MATCH twMenus=(:Tweet)-[r4:MENTIONS]->(:User) \\\n",
    "                  RETURN usPostw,twRettw,twReptw,twMenus \\\n",
    "                  LIMIT 10000;')\n",
    "\n",
    "data = [tuple(x) for x in data]\n",
    "\n",
    "# View first five graphs\n",
    "i = 0\n",
    "for i in range(0,5):\n",
    "    print(str(i + 1) + \" - \" + str(data[i]) + \"\\n\")\n",
    "    i = i + 1"
   ]
  },
  {
   "cell_type": "markdown",
   "metadata": {},
   "source": [
    "Crear objeto de grafos a partir de consulta a la base de datos Neo4j y ver su información:"
   ]
  },
  {
   "cell_type": "code",
   "execution_count": 15,
   "metadata": {},
   "outputs": [
    {
     "name": "stdout",
     "output_type": "stream",
     "text": [
      "100000 rows affected.\n",
      "Name: \n",
      "Type: MultiDiGraph\n",
      "Number of nodes: 267\n",
      "Number of edges: 366\n",
      "Average in degree:   1.3708\n",
      "Average out degree:   1.3708\n"
     ]
    }
   ],
   "source": [
    "# Query Neo4j\n",
    "results = cypher.run('MATCH usPostw=(:User)-[r:POSTS]->(:Tweet) \\\n",
    "                      MATCH twRettw=(:Tweet)-[r2:RETWEETS]->(:Tweet) \\\n",
    "                      MATCH twReptw=(:Tweet)-[r3:REPLY_TO]->(:Tweet) \\\n",
    "                      MATCH twMenus=(:Tweet)-[r4:MENTIONS]->(:User) \\\n",
    "                      RETURN usPostw,twRettw,twReptw,twMenus \\\n",
    "                      LIMIT 100000;', conn=connPar)\n",
    "\n",
    "# Create graph object from Neo4j\n",
    "g = results.get_graph()\n",
    "\n",
    "# View info\n",
    "print(nx.info(g))"
   ]
  },
  {
   "cell_type": "markdown",
   "metadata": {},
   "source": [
    "Graficar el objeto de grafos:"
   ]
  },
  {
   "cell_type": "code",
   "execution_count": 45,
   "metadata": {},
   "outputs": [
    {
     "name": "stderr",
     "output_type": "stream",
     "text": [
      "/usr/lib/python3.6/site-packages/networkx/drawing/nx_pylab.py:126: MatplotlibDeprecationWarning: pyplot.hold is deprecated.\n",
      "    Future behavior will be consistent with the long-time default:\n",
      "    plot commands add elements without first clearing the\n",
      "    Axes and/or Figure.\n",
      "  b = plt.ishold()\n",
      "/usr/lib/python3.6/site-packages/networkx/drawing/nx_pylab.py:138: MatplotlibDeprecationWarning: pyplot.hold is deprecated.\n",
      "    Future behavior will be consistent with the long-time default:\n",
      "    plot commands add elements without first clearing the\n",
      "    Axes and/or Figure.\n",
      "  plt.hold(b)\n",
      "/usr/lib/python3.6/site-packages/matplotlib/__init__.py:917: UserWarning: axes.hold is deprecated. Please remove it from your matplotlibrc and/or style files.\n",
      "  warnings.warn(self.msg_depr_set % key)\n",
      "/usr/lib/python3.6/site-packages/matplotlib/rcsetup.py:152: UserWarning: axes.hold is deprecated, will be removed in 3.0\n",
      "  warnings.warn(\"axes.hold is deprecated, will be removed in 3.0\")\n"
     ]
    }
   ],
   "source": [
    "nx.draw(g)"
   ]
  },
  {
   "cell_type": "markdown",
   "metadata": {},
   "source": [
    "Ver nodos:"
   ]
  },
  {
   "cell_type": "code",
   "execution_count": 22,
   "metadata": {},
   "outputs": [
    {
     "name": "stdout",
     "output_type": "stream",
     "text": [
      "1 - ('0', {'favorites': 2, 'created_at': 'Wed May 31 21:03:11 +0000 2017', 'id': 870022870512152577, 'text': 'tamos ahí @sandynyordi #JuntosPorLaNovena https://t.co/x2kWrWLrS2', 'labels': ['Tweet']})\n",
      "\n",
      "2 - ('1', {'favorites': 0, 'created_at': 'Wed May 31 21:14:07 +0000 2017', 'id': 870025622801838080, 'text': 'RT @KarinaAguatera: tamos ahí @sandynyordi #JuntosPorLaNovena https://t.co/x2kWrWLrS2', 'labels': ['Tweet']})\n",
      "\n",
      "3 - ('2', {'favorites': 1, 'created_at': 'Wed May 31 21:24:58 +0000 2017', 'id': 870028352631054336, 'text': 'mi trabajo de parto duro menos q sacar las entradas para la última final. #JuntosPorLaNovena', 'labels': ['Tweet']})\n",
      "\n",
      "4 - ('100', {'followers': 190, 'screen_name': 'KarinaAguatera', 'following': 964, 'name': '@JAKCARBONEROS', 'statuses': 1725, 'profile_image_url': 'http://pbs.twimg.com/profile_images/871221543908638720/x4FSyHJs_normal.jpg', 'location': 'montevideo', 'labels': ['User']})\n",
      "\n",
      "5 - ('4', {'favorites': 1, 'created_at': 'Thu Jun 01 13:37:06 +0000 2017', 'id': 870272998175014913, 'text': '@jptaibo27 Noo Juampa no me hagas eso! se me cayo un idolo! #juntosporlanovena  #gocavs   Aguatero y Lebronista!!', 'labels': ['Tweet']})\n",
      "\n"
     ]
    }
   ],
   "source": [
    "# View first five nodes\n",
    "\n",
    "i = 0\n",
    "for i in range(0,5):\n",
    "    print(str(i + 1) + \" - \" + str(g.nodes(data=True)[i]) + \"\\n\")\n",
    "    i = i + 1"
   ]
  },
  {
   "cell_type": "markdown",
   "metadata": {},
   "source": [
    "Calcular principales métricas de los grafos:"
   ]
  },
  {
   "cell_type": "code",
   "execution_count": 53,
   "metadata": {},
   "outputs": [
    {
     "name": "stdout",
     "output_type": "stream",
     "text": [
      "| Grado máximo: 99\n",
      "| Grado mínimo: 0\n",
      "| Número de nodos: 267\n",
      "| Número de conexiones: 366\n"
     ]
    }
   ],
   "source": [
    "# Degrees (max, min, mean)\n",
    "deg = nx.degree(g)\n",
    "\n",
    "# Número de nodos y ejes\n",
    "numNod = nx.number_of_nodes(g)\n",
    "numEdg = nx.number_of_edges(g)\n",
    "\n",
    "# Componentes conectados\n",
    "#conComp = nx.number_connected_components(g)\n",
    "\n",
    "# Componentes conexas\n",
    "#cns = nx.connected_components(g)\n",
    "\n",
    "# Diámetro\n",
    "#d = nx.diameter(g)\n",
    "\n",
    "# Excentricidad\n",
    "#ecc = nx.eccentricity(g)\n",
    "\n",
    "# Centro\n",
    "#cen = nx.center(g)\n",
    "\n",
    "# Periferia\n",
    "#per = nx.periphery(g)\n",
    "\n",
    "# Transistividad\n",
    "#tr = nx.transitivity(g)\n",
    "\n",
    "# Resumen\n",
    "print(\"| Grado máximo:\", str(max(deg)))\n",
    "print(\"| Grado mínimo:\", str(min(deg)))\n",
    "#print(\"Grado promedio:\", str(numpy.mean(deg)))\n",
    "\n",
    "print(\"| Número de nodos:\", str(numNod))\n",
    "print(\"| Número de conexiones:\", str(numEdg))\n",
    "\n",
    "#print(\"componentes conexas: \", cns)\n",
    "#print(\"diameter: %s\" % d)\n",
    "#print(\"eccentricity: %s\" % ecc)\n",
    "#print(\"center: %s\" % cen)\n",
    "#print(\"periphery: %s\" % per)\n",
    "\n",
    "# 3d visualization\n",
    "#import jgraph\n",
    "#jgraph.draw(data)"
   ]
  }
 ],
 "metadata": {
  "kernelspec": {
   "display_name": "Python 3",
   "language": "python",
   "name": "python3"
  },
  "language_info": {
   "codemirror_mode": {
    "name": "ipython",
    "version": 3
   },
   "file_extension": ".py",
   "mimetype": "text/x-python",
   "name": "python",
   "nbconvert_exporter": "python",
   "pygments_lexer": "ipython3",
   "version": "3.6.1"
  }
 },
 "nbformat": 4,
 "nbformat_minor": 2
}
