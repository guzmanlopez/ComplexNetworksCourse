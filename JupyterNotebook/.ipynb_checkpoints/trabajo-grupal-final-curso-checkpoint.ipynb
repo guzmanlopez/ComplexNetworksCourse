{
 "cells": [
  {
   "cell_type": "markdown",
   "metadata": {},
   "source": [
    "# Análisis de la red de *tweets* y usuarios relacionados con la final de la Liga Uruguaya de Basketball (LUB).\n",
    "\n",
    "\n",
    "\n",
    "\n",
    "\n",
    "\n",
    "## Trabajo final del curso \"De las redes complejas a las redes sociales: Introducción al Uso del Big Data\"\n",
    "\n",
    "\n",
    "### Integrantes del equipo: \n",
    "\n",
    "- Andrea Apolaro\n",
    "- Guzmán López\n",
    "- Leticia Vidal\n",
    "- Ricardo Rezzano\n",
    "\n",
    "\n",
    "## Introducción\n",
    "\n",
    "En el marco del curso ...\n",
    "\n",
    "\n",
    "\n",
    "## Metodología\n",
    "\n",
    "Se utilizó el lenguaje de programación Python (versión 3.6.1) ..."
   ]
  },
  {
   "cell_type": "markdown",
   "metadata": {},
   "source": [
    "Importar librerías "
   ]
  },
  {
   "cell_type": "code",
   "execution_count": 7,
   "metadata": {
    "collapsed": true
   },
   "outputs": [],
   "source": [
    "# Import python libraries\n",
    "import tweepy\n",
    "import time\n",
    "from py2neo import authenticate, Graph\n",
    "from random import choice"
   ]
  },
  {
   "cell_type": "markdown",
   "metadata": {},
   "source": [
    "Autenticación de Twitter mediante la lectura de un archivo externo con las claves requeridas:"
   ]
  },
  {
   "cell_type": "code",
   "execution_count": 8,
   "metadata": {
    "collapsed": true,
    "scrolled": true
   },
   "outputs": [],
   "source": [
    "import tweepy\n",
    "\n",
    "# Twitter OAuthentication\n",
    "consumer_key = \"XXXXXXXXXX\"\n",
    "consumer_secret = \"XXXXXXXXXX\"\n",
    "access_token = \"XXXXXXXXXX\"\n",
    "access_token_secret = \"XXXXXXXXXX\"\n",
    "\n",
    "auth = tweepy.OAuthHandler(consumer_key, consumer_secret)\n",
    "auth.set_access_token(access_token, access_token_secret)"
   ]
  },
  {
   "cell_type": "code",
   "execution_count": 9,
   "metadata": {
    "collapsed": true,
    "scrolled": true
   },
   "outputs": [],
   "source": [
    "# Twitter authentication\n",
    "# OAuthentication\n",
    "with open('/home/guzman/Documentos/Cursos/Redes Complejas - Introducción al uso del Big Data/Python/twitter-OAuth.py') as oauth:\n",
    "    exec(oauth.read())"
   ]
  },
  {
   "cell_type": "markdown",
   "metadata": {},
   "source": [
    "Crear la API (Application Program Interface) de Twitter:"
   ]
  },
  {
   "cell_type": "code",
   "execution_count": 10,
   "metadata": {
    "collapsed": true,
    "scrolled": true
   },
   "outputs": [],
   "source": [
    "# Create API\n",
    "api = tweepy.API(auth, wait_on_rate_limit=True, wait_on_rate_limit_notify=True, compression=True)"
   ]
  },
  {
   "cell_type": "markdown",
   "metadata": {},
   "source": [
    "Comenzar el servicio de la base de datos Neo4j desde una consola:"
   ]
  },
  {
   "cell_type": "raw",
   "metadata": {},
   "source": [
    "sudo systemctl start neo4j.service"
   ]
  },
  {
   "cell_type": "markdown",
   "metadata": {},
   "source": [
    "Autenticación de la base de datos no relacional Neo4j a través de la lectura de un archivo externo con las claves de usuario y contraseña requeridas."
   ]
  },
  {
   "cell_type": "code",
   "execution_count": 15,
   "metadata": {
    "collapsed": true,
    "scrolled": true
   },
   "outputs": [],
   "source": [
    "# Neo4j DB graph authentication\n",
    "\n",
    "# Connect to graph\n",
    "url = \"http://localhost:7474/db/data/\"\n",
    "authenticate(\"localhost:7474\", neo4jUser, neo4jPass)\n",
    "graph = Graph(url)"
   ]
  },
  {
   "cell_type": "markdown",
   "metadata": {},
   "source": [
    "Cargar la extensión de Cypher"
   ]
  },
  {
   "cell_type": "code",
   "execution_count": null,
   "metadata": {
    "collapsed": true
   },
   "outputs": [],
   "source": [
    "# Load cypher extension\n",
    "%load_ext cypher"
   ]
  },
  {
   "cell_type": "markdown",
   "metadata": {},
   "source": [
    "Agregar restricciones de unicidad a la base de datos:"
   ]
  },
  {
   "cell_type": "code",
   "execution_count": null,
   "metadata": {
    "collapsed": true,
    "scrolled": true
   },
   "outputs": [],
   "source": [
    "# Add uniqueness constraints\n",
    "graph.run(\"CREATE CONSTRAINT ON (t:Tweet) ASSERT t.id IS UNIQUE;\")\n",
    "graph.run(\"CREATE CONSTRAINT ON (u:User) ASSERT u.screen_name IS UNIQUE;\")\n",
    "graph.run(\"CREATE CONSTRAINT ON (h:Hashtag) ASSERT h.name IS UNIQUE;\")\n",
    "graph.run(\"CREATE CONSTRAINT ON (l:Link) ASSERT l.url IS UNIQUE;\")\n",
    "graph.run(\"CREATE CONSTRAINT ON (s:Source) ASSERT s.name IS UNIQUE;\")"
   ]
  },
  {
   "cell_type": "markdown",
   "metadata": {},
   "source": [
    "Construir una lista con las palabras clave para la búsqueda de tweets:"
   ]
  },
  {
   "cell_type": "code",
   "execution_count": 16,
   "metadata": {
    "collapsed": true,
    "scrolled": true
   },
   "outputs": [],
   "source": [
    "# Query words\n",
    "queries = [\"aguada\", \"aguatero\", \"hebraica\", \"macabi\", \"finalesLUB\", \"juntosporlanovena\", \"vamossha\", \"finaleslub\"]"
   ]
  },
  {
   "cell_type": "markdown",
   "metadata": {},
   "source": [
    "Crear un archivo de texto vacío para adjuntar (escribir) los nombres de los usuarios de los tweets encontrados:"
   ]
  },
  {
   "cell_type": "code",
   "execution_count": null,
   "metadata": {
    "collapsed": true
   },
   "outputs": [],
   "source": [
    "# Open file connection to append usernames\n",
    "ufile = open(\"usernames_{}.txt\".format(\"aguada-hebraica\"), \"a\")"
   ]
  },
  {
   "cell_type": "markdown",
   "metadata": {},
   "source": [
    "Cargar script de comandos en Cypher como cadena de caracteres"
   ]
  },
  {
   "cell_type": "code",
   "execution_count": null,
   "metadata": {
    "collapsed": true
   },
   "outputs": [],
   "source": [
    "# Pass dict to Cypher and build query from cypher script file\n",
    "with open('/home/guzman/Documentos/GitLab/ComplexNetworks/Cypher/queries-in-script.cypher') as query:\n",
    "    query = query.read()\n",
    "\n",
    "print(query)"
   ]
  },
  {
   "cell_type": "code",
   "execution_count": null,
   "metadata": {
    "collapsed": true
   },
   "outputs": [],
   "source": [
    "%%cypher\n",
    "UNWIND {tweets} AS t\n",
    "\n",
    "WITH t\n",
    "ORDER BY t.id\n",
    "\n",
    "WITH t,\n",
    "t.entities AS e,\n",
    "t.user AS u,\n",
    "t.retweeted_status AS retweet\n",
    "\n",
    "MERGE (tweet:Tweet {id:t.id})\n",
    "SET tweet.text = t.text,\n",
    "tweet.created_at = t.created_at,\n",
    "tweet.favorites = t.favorite_count\n",
    "\n",
    "MERGE (user:User {screen_name:u.screen_name})\n",
    "SET user.name = u.name,\n",
    "user.location = u.location,\n",
    "user.followers = u.followers_count,\n",
    "user.following = u.friends_count,\n",
    "user.statuses = u.statuses_count,\n",
    "user.profile_image_url = u.profile_image_url\n",
    "\n",
    "MERGE (user)-[:POSTS]->(tweet)\n",
    "\n",
    "MERGE (source:Source {name:t.source})\n",
    "MERGE (tweet)-[:USING]->(source)\n",
    "\n",
    "FOREACH (h IN e.hashtags |\n",
    "  MERGE (tag:Hashtag {name:LOWER(h.text)})\n",
    "  MERGE (tag)-[:TAGS]->(tweet)\n",
    "  )\n",
    "\n",
    "  FOREACH (u IN e.urls |\n",
    "    MERGE (url:Link {url:u.expanded_url})\n",
    "    MERGE (tweet)-[:CONTAINS]->(url)\n",
    "    )\n",
    "\n",
    "    FOREACH (m IN e.user_mentions |\n",
    "      MERGE (mentioned:User {screen_name:m.screen_name})\n",
    "      ON CREATE SET mentioned.name = m.name\n",
    "      MERGE (tweet)-[:MENTIONS]->(mentioned)\n",
    "      )\n",
    "\n",
    "      FOREACH (r IN [r IN [t.in_reply_to_status_id] WHERE r IS NOT NULL] |\n",
    "        MERGE (reply_tweet:Tweet {id:r})\n",
    "        MERGE (tweet)-[:REPLY_TO]->(reply_tweet)\n",
    "        )\n",
    "\n",
    "        FOREACH (retweet_id IN [x IN [retweet.id] WHERE x IS NOT NULL] |\n",
    "          MERGE (retweet_tweet:Tweet {id:retweet_id})\n",
    "          MERGE (tweet)-[:RETWEETS]->(retweet_tweet)\n",
    "          )\n"
   ]
  },
  {
   "cell_type": "markdown",
   "metadata": {},
   "source": [
    "Definir los parámetros para la búsqueda de los tweets:"
   ]
  },
  {
   "cell_type": "code",
   "execution_count": null,
   "metadata": {
    "collapsed": true
   },
   "outputs": [],
   "source": [
    "# Parameters\n",
    "count = 100 # The number of tweets to return per page, up to a maximum of 100. Defaults to 15.\n",
    "result_type = \"mixed\" # Include both popular and real time results in the response.\n",
    "until = \"2017-06-04\" # Returns tweets created before the given date.\n",
    "lang = \"es\" # Restricts tweets to the given language\n",
    "since_id = -1 # Returns results with an ID greater than (that is, more recent than) the specified ID."
   ]
  },
  {
   "cell_type": "markdown",
   "metadata": {},
   "source": [
    "Definir una función para la búsqueda de tweets que contiene la función de búsqueda de tweets de la librería tweepy y recibe como parámetros las palabras clave de búsqueda y el ID."
   ]
  },
  {
   "cell_type": "code",
   "execution_count": null,
   "metadata": {
    "collapsed": true
   },
   "outputs": [],
   "source": [
    "def search_tweets(query, since_id):\n",
    "    return api.search(q=query, count=count, until=until, result_type=result_type, lang=lang, since_id=since_id)"
   ]
  },
  {
   "cell_type": "markdown",
   "metadata": {},
   "source": [
    "Iterar buscando tweets a partir de las palabras claves en la búsqueda y ejecutando el código importado en Cypher para insertar los registros en la base de datos no relacional de Neo4j. "
   ]
  },
  {
   "cell_type": "code",
   "execution_count": null,
   "metadata": {
    "collapsed": true
   },
   "outputs": [],
   "source": [
    "while True:\n",
    "    try:\n",
    "        q = choice(queries)\n",
    "        tweets = search_tweets(q, since_id)\n",
    "        if tweets:\n",
    "            plural = \"s.\" if len(tweets) > 1 else \".\"\n",
    "            print(\"Found \" + str(len(tweets)) + \" tweet\" + plural)\n",
    "        else:\n",
    "            print(\"No tweets found.\\n\")\n",
    "            time.sleep(65)\n",
    "            continue\n",
    "        \n",
    "        since_id = tweets[0].id\n",
    "\n",
    "        # Send Cypher query.\n",
    "        graph.run(query, tweets=[tweet._json for tweet in tweets])\n",
    "\n",
    "        # adding users to user list\n",
    "        for tweet in tweets:\n",
    "            ufile.write(tweet.user.screen_name+\"\\n\")\n",
    "        print(\"Tweets added to graph! \\n\")\n",
    "        time.sleep(33)\n",
    "\n",
    "    except Exception as e:\n",
    "        print(e)\n",
    "        time.sleep(33)\n",
    "        continue"
   ]
  }
 ],
 "metadata": {
  "kernelspec": {
   "display_name": "Python 3",
   "language": "python",
   "name": "python3"
  },
  "language_info": {
   "codemirror_mode": {
    "name": "ipython",
    "version": 3
   },
   "file_extension": ".py",
   "mimetype": "text/x-python",
   "name": "python",
   "nbconvert_exporter": "python",
   "pygments_lexer": "ipython3",
   "version": "3.6.1"
  }
 },
 "nbformat": 4,
 "nbformat_minor": 2
}
