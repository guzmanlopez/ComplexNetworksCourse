{
 "cells": [
  {
   "cell_type": "markdown",
   "metadata": {},
   "source": [
    "# Análisis de la red de *tweets* y usuarios relacionados con la final de la Liga Uruguaya de Basketball (LUB).\n",
    "\n",
    "\n",
    "\n",
    "\n",
    "\n",
    "\n",
    "## Trabajo final del curso \"De las redes complejas a las redes sociales: Introducción al Uso del Big Data\"\n",
    "\n",
    "\n",
    "### Integrantes del equipo: \n",
    "\n",
    "- Andrea Apolaro\n",
    "- Guzmán López\n",
    "- Leticia Vidal\n",
    "- Ricardo Rezzano\n",
    "\n",
    "\n",
    "## Introducción\n",
    "\n",
    "En el marco del curso ...\n",
    "\n",
    "\n",
    "\n",
    "## Metodología\n",
    "\n",
    "Se utilizó el lenguaje de programación Python (versión 3.6.1) ..."
   ]
  },
  {
   "cell_type": "markdown",
   "metadata": {},
   "source": [
    "Importar librerías "
   ]
  },
  {
   "cell_type": "code",
   "execution_count": 113,
   "metadata": {
    "collapsed": true
   },
   "outputs": [],
   "source": [
    "# Import python libraries\n",
    "import tweepy\n",
    "import time\n",
    "from random import choice\n",
    "from py2neo import authenticate, Graph\n",
    "import cypher\n",
    "import networkx as nx\n",
    "import matplotlib.pyplot as plt"
   ]
  },
  {
   "cell_type": "markdown",
   "metadata": {},
   "source": [
    "Autenticación de Twitter y Neo4j mediante la lectura de un archivo externo con las claves requeridas:"
   ]
  },
  {
   "cell_type": "code",
   "execution_count": 8,
   "metadata": {
    "collapsed": true,
    "scrolled": true
   },
   "outputs": [],
   "source": [
    "import tweepy\n",
    "\n",
    "# Twitter OAuthentication\n",
    "consumer_key = \"XXXXXXXXXX\"\n",
    "consumer_secret = \"XXXXXXXXXX\"\n",
    "access_token = \"XXXXXXXXXX\"\n",
    "access_token_secret = \"XXXXXXXXXX\"\n",
    "\n",
    "auth = tweepy.OAuthHandler(consumer_key, consumer_secret)\n",
    "auth.set_access_token(access_token, access_token_secret)\n",
    "\n",
    "# Neo4j\n",
    "neo4jUser = \"xxxx\"\n",
    "neo4jPass = \"xxxx\""
   ]
  },
  {
   "cell_type": "code",
   "execution_count": 2,
   "metadata": {
    "collapsed": true,
    "scrolled": true
   },
   "outputs": [],
   "source": [
    "# Authentication credentials for Tweeter and Neo4j credentials\n",
    "with open('/home/guzman/Documentos/Cursos/Redes Complejas - Introducción al uso del Big Data/Python/twitter-OAuth.py') as oauth:\n",
    "    exec(oauth.read())"
   ]
  },
  {
   "cell_type": "markdown",
   "metadata": {},
   "source": [
    "Crear la API (Application Program Interface) de Twitter:"
   ]
  },
  {
   "cell_type": "code",
   "execution_count": 10,
   "metadata": {
    "collapsed": true,
    "scrolled": true
   },
   "outputs": [],
   "source": [
    "# Create API\n",
    "api = tweepy.API(auth, wait_on_rate_limit=True, wait_on_rate_limit_notify=True, compression=True)"
   ]
  },
  {
   "cell_type": "markdown",
   "metadata": {},
   "source": [
    "Comenzar el servicio de la base de datos Neo4j desde una consola:"
   ]
  },
  {
   "cell_type": "code",
   "execution_count": 3,
   "metadata": {},
   "outputs": [
    {
     "name": "stdout",
     "output_type": "stream",
     "text": [
      "● neo4j.service - Neo4j\n",
      "   Loaded: loaded (/usr/lib/systemd/system/neo4j.service; disabled; vendor preset: disabled)\n",
      "   Active: active (running) since Tue 2017-06-06 08:40:45 -03; 4ms ago\n",
      "  Process: 1486 ExecStart=/usr/bin/neo4j start (code=exited, status=0/SUCCESS)\n",
      " Main PID: 1546 (java)\n",
      "    Tasks: 40 (limit: 4915)\n",
      "   Memory: 22.5M\n",
      "      CPU: 131ms\n",
      "   CGroup: /system.slice/neo4j.service\n",
      "           └─1546 /usr/sbin/java -cp /usr/share/java/neo4j/plugins:/etc/neo4j:/usr/share/java/neo4j/*:/usr/share/java/neo4j/plugins/* -server -XX:+UseG1GC -XX:-OmitStackTraceInFastThrow -XX:hashCode=5 -XX:+AlwaysPreTouch -XX:+UnlockExperimentalVMOptions -XX:+TrustFinalNonStaticFields -XX:+DisableExplicitGC -Djdk.tls.ephemeralDHKeySize=2048 -Dunsupported.dbms.udc.source=tarball -Dfile.encoding=UTF-8 org.neo4j.server.CommunityEntryPoint --home-dir=/usr/share/neo4j --config-dir=/etc/neo4j\n",
      "\n",
      "jun 06 08:40:45 carqueja systemd[1]: Starting Neo4j...\n",
      "jun 06 08:40:45 carqueja neo4j[1486]: Starting Neo4j.\n",
      "jun 06 08:40:45 carqueja neo4j[1486]: Started neo4j (pid 1546). By default, it is available at http://localhost:7474/\n",
      "jun 06 08:40:45 carqueja systemd[1]: Started Neo4j.\n"
     ]
    }
   ],
   "source": [
    "%%sh\n",
    "\n",
    "# Start neo4j service \n",
    "systemctl start neo4j.service\n",
    "\n",
    "# Check status of neo4j service\n",
    "systemctl status neo4j.service"
   ]
  },
  {
   "cell_type": "markdown",
   "metadata": {},
   "source": [
    "Autenticación de la base de datos no relacional Neo4j a través de la lectura del archivo externo con las claves de usuario y contraseña requeridas leído anteriormente."
   ]
  },
  {
   "cell_type": "code",
   "execution_count": 4,
   "metadata": {
    "collapsed": true,
    "scrolled": true
   },
   "outputs": [],
   "source": [
    "# Neo4j DB graph authentication\n",
    "\n",
    "# Connect to graph\n",
    "url = \"http://localhost:7474/db/data/\"\n",
    "authenticate(\"localhost:7474\", neo4jUser, neo4jPass)\n",
    "graph = Graph(url)\n",
    "\n",
    "# Authentication for cypher package\n",
    "connPar = \"http://\" + neo4jUser + \":\" + neo4jPass + \"@localhost:7474/db/data/\""
   ]
  },
  {
   "cell_type": "markdown",
   "metadata": {},
   "source": [
    "Agregar restricciones de unicidad a la base de datos:"
   ]
  },
  {
   "cell_type": "code",
   "execution_count": null,
   "metadata": {
    "collapsed": true,
    "scrolled": true
   },
   "outputs": [],
   "source": [
    "# Add uniqueness constraints\n",
    "graph.run(\"CREATE CONSTRAINT ON (t:Tweet) ASSERT t.id IS UNIQUE;\")\n",
    "graph.run(\"CREATE CONSTRAINT ON (u:User) ASSERT u.screen_name IS UNIQUE;\")\n",
    "graph.run(\"CREATE CONSTRAINT ON (h:Hashtag) ASSERT h.name IS UNIQUE;\")\n",
    "graph.run(\"CREATE CONSTRAINT ON (l:Link) ASSERT l.url IS UNIQUE;\")\n",
    "graph.run(\"CREATE CONSTRAINT ON (s:Source) ASSERT s.name IS UNIQUE;\")"
   ]
  },
  {
   "cell_type": "markdown",
   "metadata": {},
   "source": [
    "Construir una lista con las palabras clave para la búsqueda de tweets:"
   ]
  },
  {
   "cell_type": "code",
   "execution_count": 16,
   "metadata": {
    "collapsed": true,
    "scrolled": true
   },
   "outputs": [],
   "source": [
    "# Query words\n",
    "queries = [\"aguada\", \"aguatero\", \"hebraica\", \"macabi\", \"finalesLUB\", \"juntosporlanovena\", \"vamossha\", \"finaleslub\"]"
   ]
  },
  {
   "cell_type": "markdown",
   "metadata": {},
   "source": [
    "Crear un archivo de texto vacío para adjuntar (escribir) los nombres de los usuarios de los tweets encontrados:"
   ]
  },
  {
   "cell_type": "code",
   "execution_count": null,
   "metadata": {
    "collapsed": true
   },
   "outputs": [],
   "source": [
    "# Open file connection to append usernames\n",
    "ufile = open(\"usernames_{}.txt\".format(\"aguada-hebraica\"), \"a\")"
   ]
  },
  {
   "cell_type": "markdown",
   "metadata": {},
   "source": [
    "Cargar script de comandos en Cypher como cadena de caracteres"
   ]
  },
  {
   "cell_type": "code",
   "execution_count": null,
   "metadata": {
    "collapsed": true
   },
   "outputs": [],
   "source": [
    "# Pass dict to Cypher and build query from cypher script file\n",
    "with open('/home/guzman/Documentos/GitLab/ComplexNetworks/Cypher/queries-in-script.cypher') as query:\n",
    "    query = query.read()\n",
    "\n",
    "print(query)"
   ]
  },
  {
   "cell_type": "markdown",
   "metadata": {},
   "source": [
    "Definir los parámetros para la búsqueda de los tweets:"
   ]
  },
  {
   "cell_type": "code",
   "execution_count": null,
   "metadata": {
    "collapsed": true
   },
   "outputs": [],
   "source": [
    "# Parameters\n",
    "count = 100 # The number of tweets to return per page, up to a maximum of 100. Defaults to 15.\n",
    "result_type = \"mixed\" # Include both popular and real time results in the response.\n",
    "until = \"2017-06-04\" # Returns tweets created before the given date.\n",
    "lang = \"es\" # Restricts tweets to the given language\n",
    "since_id = -1 # Returns results with an ID greater than (that is, more recent than) the specified ID."
   ]
  },
  {
   "cell_type": "markdown",
   "metadata": {},
   "source": [
    "Definir una función para la búsqueda de tweets que contiene la función de búsqueda de tweets de la librería tweepy y recibe como parámetros las palabras clave de búsqueda y el ID."
   ]
  },
  {
   "cell_type": "code",
   "execution_count": null,
   "metadata": {
    "collapsed": true
   },
   "outputs": [],
   "source": [
    "def search_tweets(query, since_id):\n",
    "    return api.search(q=query, count=count, until=until, result_type=result_type, lang=lang, since_id=since_id)"
   ]
  },
  {
   "cell_type": "markdown",
   "metadata": {},
   "source": [
    "Iterar buscando tweets a partir de las palabras claves en la búsqueda y ejecutando el código importado en Cypher para insertar los registros en la base de datos no relacional de Neo4j. "
   ]
  },
  {
   "cell_type": "code",
   "execution_count": null,
   "metadata": {
    "collapsed": true
   },
   "outputs": [],
   "source": [
    "while True:\n",
    "    try:\n",
    "        q = choice(queries)\n",
    "        tweets = search_tweets(q, since_id)\n",
    "        if tweets:\n",
    "            plural = \"s.\" if len(tweets) > 1 else \".\"\n",
    "            print(\"Found \" + str(len(tweets)) + \" tweet\" + plural)\n",
    "        else:\n",
    "            print(\"No tweets found.\\n\")\n",
    "            time.sleep(65)\n",
    "            continue\n",
    "        \n",
    "        since_id = tweets[0].id\n",
    "\n",
    "        # Send Cypher query.\n",
    "        graph.run(query, tweets=[tweet._json for tweet in tweets])\n",
    "\n",
    "        # adding users to user list\n",
    "        for tweet in tweets:\n",
    "            ufile.write(tweet.user.screen_name+\"\\n\")\n",
    "        print(\"Tweets added to graph! \\n\")\n",
    "        time.sleep(33)\n",
    "\n",
    "    except Exception as e:\n",
    "        print(e)\n",
    "        time.sleep(33)\n",
    "        continue"
   ]
  },
  {
   "cell_type": "markdown",
   "metadata": {},
   "source": [
    "Import graph to python"
   ]
  },
  {
   "cell_type": "code",
   "execution_count": 6,
   "metadata": {},
   "outputs": [
    {
     "name": "stdout",
     "output_type": "stream",
     "text": [
      "1 - ((e7d8479)-[:POSTS]->(cf0a24e), (f949b73)-[:RETWEETS]->(b306a18), (e06876d)-[:REPLY_TO]->(a03511b), (f949b73)-[:MENTIONS]->(e7d8479))\n",
      "\n",
      "2 - ((e7d8479)-[:POSTS]->(cf0a24e), (f949b73)-[:RETWEETS]->(b306a18), (e06876d)-[:REPLY_TO]->(a03511b), (f949b73)-[:MENTIONS]->(de94de1))\n",
      "\n",
      "3 - ((e7d8479)-[:POSTS]->(cf0a24e), (f949b73)-[:RETWEETS]->(b306a18), (e06876d)-[:REPLY_TO]->(a03511b), (b306a18)-[:MENTIONS]->(de94de1))\n",
      "\n",
      "4 - ((e7d8479)-[:POSTS]->(cf0a24e), (f949b73)-[:RETWEETS]->(b306a18), (e06876d)-[:REPLY_TO]->(a03511b), (e3cc96b)-[:MENTIONS]->(b91061a))\n",
      "\n",
      "5 - ((e7d8479)-[:POSTS]->(cf0a24e), (f949b73)-[:RETWEETS]->(b306a18), (e06876d)-[:REPLY_TO]->(a03511b), (bfc1894)-[:MENTIONS]->(b91061a))\n",
      "\n"
     ]
    }
   ],
   "source": [
    "# Import graph to python - queries\n",
    "# https://nicolewhite.github.io/neo4j-jupyter/hello-world.html\n",
    "\n",
    "# Return all the nodes in the DB\n",
    "# data = graph.run('')\n",
    "\n",
    "data = graph.run('MATCH usPostw=(:User)-[r:POSTS]->(:Tweet) \\\n",
    "                  MATCH twRettw=(:Tweet)-[r2:RETWEETS]->(:Tweet) \\\n",
    "                  MATCH twReptw=(:Tweet)-[r3:REPLY_TO]->(:Tweet) \\\n",
    "                  MATCH twMenus=(:Tweet)-[r4:MENTIONS]->(:User) \\\n",
    "                  RETURN usPostw,twRettw,twReptw,twMenus \\\n",
    "                  LIMIT 10000;')\n",
    "\n",
    "data = [tuple(x) for x in data]\n",
    "\n",
    "# View first five graphs\n",
    "i = 0\n",
    "for i in range(0,5):\n",
    "    print(str(i + 1) + \" - \" + str(data[i]) + \"\\n\")\n",
    "    i = i + 1"
   ]
  },
  {
   "cell_type": "markdown",
   "metadata": {},
   "source": [
    "Crear objeto de grafos a partir de consulta a la base de datos Neo4j y ver su información:"
   ]
  },
  {
   "cell_type": "code",
   "execution_count": 5,
   "metadata": {},
   "outputs": [
    {
     "name": "stdout",
     "output_type": "stream",
     "text": [
      "100000 rows affected.\n",
      "Name: \n",
      "Type: MultiDiGraph\n",
      "Number of nodes: 267\n",
      "Number of edges: 366\n",
      "Average in degree:   1.3708\n",
      "Average out degree:   1.3708\n"
     ]
    }
   ],
   "source": [
    "# Query Neo4j\n",
    "results = cypher.run('MATCH usPostw=(:User)-[r:POSTS]->(:Tweet) \\\n",
    "                      MATCH twRettw=(:Tweet)-[r2:RETWEETS]->(:Tweet) \\\n",
    "                      MATCH twReptw=(:Tweet)-[r3:REPLY_TO]->(:Tweet) \\\n",
    "                      MATCH twMenus=(:Tweet)-[r4:MENTIONS]->(:User) \\\n",
    "                      RETURN usPostw,twRettw,twReptw,twMenus \\\n",
    "                      LIMIT 100000;', conn=connPar)\n",
    "\n",
    "# Create graph object from Neo4j\n",
    "g = results.get_graph()\n",
    "\n",
    "# View info\n",
    "print(nx.info(g))"
   ]
  },
  {
   "cell_type": "markdown",
   "metadata": {},
   "source": [
    "Graficar el objeto de grafos:"
   ]
  },
  {
   "cell_type": "code",
   "execution_count": 6,
   "metadata": {},
   "outputs": [
    {
     "data": {
      "image/png": "[encoded data removed]",
      "text/plain": [
       "<matplotlib.figure.Figure at 0x7f336deb27b8>"
      ]
     },
     "metadata": {},
     "output_type": "display_data"
    }
   ],
   "source": [
    "%matplotlib inline\n",
    "\n",
    "# Create network layout for visualizations\n",
    "spring_pos = nx.spring_layout(g)\n",
    "\n",
    "# Plot graph\n",
    "plt.axis(\"off\")\n",
    "nx.draw_networkx(g, pos = spring_pos, with_labels = False, node_size = 30)\n"
   ]
  },
  {
   "cell_type": "code",
   "execution_count": 9,
   "metadata": {},
   "outputs": [
    {
     "data": {
      "image/png": "[encoded data removed]",
      "text/plain": [
       "<matplotlib.figure.Figure at 0x7f3324af4128>"
      ]
     },
     "metadata": {},
     "output_type": "display_data"
    }
   ],
   "source": [
    "%matplotlib inline\n",
    "\n",
    "d = nx.degree(g)\n",
    "\n",
    "# Plot graph\n",
    "plt.axis(\"off\")\n",
    "nx.draw_networkx(g, pos = spring_pos, with_labels = False, nodelist=d.keys(), node_size=[v * 30 for v in d.values()])\n"
   ]
  },
  {
   "cell_type": "markdown",
   "metadata": {},
   "source": [
    "Ver nodos:"
   ]
  },
  {
   "cell_type": "code",
   "execution_count": 18,
   "metadata": {},
   "outputs": [
    {
     "name": "stdout",
     "output_type": "stream",
     "text": [
      "1- ('0', {'favorites': 2, 'created_at': 'Wed May 31 21:03:11 +0000 2017', 'id': 870022870512152577, 'text': 'tamos ahí @sandynyordi #JuntosPorLaNovena https://t.co/x2kWrWLrS2', 'labels': ['Tweet']})\n",
      "2- ('1', {'favorites': 0, 'created_at': 'Wed May 31 21:14:07 +0000 2017', 'id': 870025622801838080, 'text': 'RT @KarinaAguatera: tamos ahí @sandynyordi #JuntosPorLaNovena https://t.co/x2kWrWLrS2', 'labels': ['Tweet']})\n",
      "3- ('2', {'favorites': 1, 'created_at': 'Wed May 31 21:24:58 +0000 2017', 'id': 870028352631054336, 'text': 'mi trabajo de parto duro menos q sacar las entradas para la última final. #JuntosPorLaNovena', 'labels': ['Tweet']})\n",
      "4- ('100', {'followers': 190, 'screen_name': 'KarinaAguatera', 'following': 964, 'name': '@JAKCARBONEROS', 'statuses': 1725, 'profile_image_url': 'http://pbs.twimg.com/profile_images/871221543908638720/x4FSyHJs_normal.jpg', 'location': 'montevideo', 'labels': ['User']})\n",
      "5- ('4', {'favorites': 1, 'created_at': 'Thu Jun 01 13:37:06 +0000 2017', 'id': 870272998175014913, 'text': '@jptaibo27 Noo Juampa no me hagas eso! se me cayo un idolo! #juntosporlanovena  #gocavs   Aguatero y Lebronista!!', 'labels': ['Tweet']})\n"
     ]
    }
   ],
   "source": [
    "# View first five nodes\n",
    "i = 0\n",
    "for i in range(0,5):\n",
    "    print(str(i + 1) + \"- \" + str(g.nodes(data=True)[i]))\n",
    "    i = i + 1"
   ]
  },
  {
   "cell_type": "markdown",
   "metadata": {},
   "source": [
    "Ver ejes:"
   ]
  },
  {
   "cell_type": "code",
   "execution_count": 19,
   "metadata": {},
   "outputs": [
    {
     "name": "stdout",
     "output_type": "stream",
     "text": [
      "1- ('0', '101', {'type': 'MENTIONS'})\n",
      "2- ('1', '100', {'type': 'MENTIONS'})\n",
      "3- ('1', '0', {'type': 'RETWEETS'})\n",
      "4- ('1', '101', {'type': 'MENTIONS'})\n",
      "5- ('100', '2', {'type': 'POSTS'})\n"
     ]
    }
   ],
   "source": [
    "# View first five edges\n",
    "i = 0\n",
    "for i in range(0,5):\n",
    "    print(str(i + 1) + \"- \" + str(g.edges(data=True)[i]))\n",
    "    i = i + 1"
   ]
  },
  {
   "cell_type": "markdown",
   "metadata": {},
   "source": [
    "Calcular principales métricas de los grafos:"
   ]
  },
  {
   "cell_type": "code",
   "execution_count": 145,
   "metadata": {},
   "outputs": [
    {
     "name": "stdout",
     "output_type": "stream",
     "text": [
      "| -------------------------------------------- |\n",
      "| Tipo de grafo: multigrafo\n",
      "| Direccional: si\n",
      "| Conectado: no\n",
      "| -------------------------------------------- |\n",
      "| Número de nodos: 267\n",
      "| Número de conexiones: 366\n",
      "| -------------------------------------------- |\n",
      "| Grado máximo entrada: 34\n",
      "| Grado mínimo entrada: 0\n",
      "| Grado promedio entrada: 1.3707865168539326\n",
      "| -------------------------------------------- |\n",
      "| Grado máximo salida: 6\n",
      "| Grado mínimo salida: 0\n",
      "| Grado promedio salida: 1.3707865168539326\n",
      "| -------------------------------------------- |\n",
      "| Grado máximo (no dir): 34\n",
      "| Grado mínimo (no dir): 1\n",
      "| Grado promedio (no dir): 2.741573033707865\n",
      "| -------------------------------------------- |\n",
      "| Número de componentes conectados: 38\n"
     ]
    }
   ],
   "source": [
    "# Tipe of graph\n",
    "esMultigrafo = g.is_multigraph()\n",
    "esDireccional = g.is_directed()\n",
    "esConectado = nx.is_connected(g2)\n",
    "\n",
    "# Number of nodes and edges\n",
    "numNod = nx.number_of_nodes(g)\n",
    "numEdg = nx.number_of_edges(g)\n",
    "\n",
    "# Degrees (max, min, mean)\n",
    "deg = nx.degree(g)\n",
    "in_degrees  = g.in_degree()\n",
    "out_degrees  = g.out_degree()\n",
    "\n",
    "# Componentes conectados\n",
    "if not esConectado:\n",
    "    g2 = g.to_undirected() # saco direccionalidad\n",
    "    g3 = nx.connected_components(g2) # me quedo con componentes conectados\n",
    "\n",
    "conComp = nx.number_connected_components(g2)\n",
    "\n",
    "g2_components = nx.connected_component_subgraphs(g2)\n",
    "\n",
    "# Componentes conexas\n",
    "#cns = nx.connected_components(g)\n",
    "\n",
    "# Diámetro\n",
    "#d = nx.diameter(g)\n",
    "\n",
    "# Excentricidad\n",
    "#ecc = nx.eccentricity(g)\n",
    "\n",
    "# Centro\n",
    "#cen = nx.center(g)\n",
    "\n",
    "# Periferia\n",
    "#per = nx.periphery(g)\n",
    "\n",
    "# Transistividad\n",
    "#tr = nx.transitivity(g)\n",
    "\n",
    "# Resumen\n",
    "print(\"| -------------------------------------------- |\")\n",
    "if esMultigrafo:\n",
    "    print(\"| Tipo de grafo: multigrafo\") \n",
    "if  not esMultigrafo: \n",
    "    print(\"| Tipo de grafo: simple\")\n",
    "\n",
    "if esDireccional:\n",
    "    print(\"| Direccional: si\") \n",
    "if  not esDireccional: \n",
    "    print(\"| Direccional: no\")\n",
    "\n",
    "if esConectado:\n",
    "    print(\"| Conectado: si\") \n",
    "if  not esConectado: \n",
    "    print(\"| Conectado: no\")\n",
    "print(\"| -------------------------------------------- |\")\n",
    "print(\"| Número de nodos:\", str(numNod))\n",
    "print(\"| Número de conexiones:\", str(numEdg))\n",
    "print(\"| -------------------------------------------- |\")\n",
    "print(\"| Grado máximo entrada:\", str(max(in_degrees.values())))\n",
    "print(\"| Grado mínimo entrada:\", str(min(in_degrees.values())))\n",
    "print(\"| Grado promedio entrada:\", str(sum(in_degrees.values())/len(deg.values())))\n",
    "print(\"| -------------------------------------------- |\")\n",
    "print(\"| Grado máximo salida:\", str(max(out_degrees.values())))\n",
    "print(\"| Grado mínimo salida:\", str(min(out_degrees.values())))\n",
    "print(\"| Grado promedio salida:\", str(sum(out_degrees.values())/len(deg.values())))\n",
    "print(\"| -------------------------------------------- |\")\n",
    "print(\"| Grado máximo (no dir):\", str(max(deg.values())))\n",
    "print(\"| Grado mínimo (no dir):\", str(min(deg.values())))\n",
    "print(\"| Grado promedio (no dir):\", str(sum(deg.values())/len(deg.values())))\n",
    "print(\"| -------------------------------------------- |\")\n",
    "print(\"| Número de componentes conectados: %d\" % nx.number_connected_components(g2))\n",
    "\n",
    "#print(\"| Radio: %d\" % nx.radius(g))\n",
    "#print(\"| Diámetro: %d\" % nx.diameter(g))\n",
    "#print(\"| Excentricidad: %s\" % nx.eccentricity(g))\n",
    "#print(\"| Centro: %s\" % center(g))\n",
    "#print(\"| Periferia: %s\" % periphery(g))\n",
    "#print(\"| Densidad: %s\" % density(g))"
   ]
  },
  {
   "cell_type": "code",
   "execution_count": 89,
   "metadata": {},
   "outputs": [],
   "source": [
    "# Select most output connected nodes\n",
    "\n",
    "#resultsDeg = cypher.run('MATCH usPostw=(n:User)-[r:POSTS]->(:Tweet) \\\n",
    "#                         RETURN id(n), size((n)-->()) as degree \\\n",
    "#                         ORDER BY degree DESC LIMIT 10;', conn=connPar)\n",
    "\n",
    "#resultsDeg = cypher.run('MATCH (:Tweet)-[r4:MENTIONS]->(n:User) \\\n",
    "#                         RETURN id(n), size((n)-->()) as degree \\\n",
    "#                         ORDER BY degree DESC LIMIT 10;', conn=connPar)\n",
    "\n",
    "#print(resultsDeg)\n",
    "\n",
    "# Create graph object from Neo4j\n",
    "#g = results.get_graph()"
   ]
  },
  {
   "cell_type": "markdown",
   "metadata": {},
   "source": [
    "Detectar comunidades:"
   ]
  },
  {
   "cell_type": "code",
   "execution_count": 137,
   "metadata": {},
   "outputs": [],
   "source": [
    "import community\n",
    "\n",
    "#parts = community.best_partition(g2)\n",
    "#values = [parts.get(node) for node in g.nodes()]\n",
    "\n",
    "#plt.axis(\"off\")\n",
    "#nx.draw_networkx(g, pos = spring_pos, cmap = plt.get_cmap(\"jet\"), node_color = values, node_size = 35, with_labels = False)\n"
   ]
  }
 ],
 "metadata": {
  "kernelspec": {
   "display_name": "Python 3",
   "language": "python",
   "name": "python3"
  },
  "language_info": {
   "codemirror_mode": {
    "name": "ipython",
    "version": 3
   },
   "file_extension": ".py",
   "mimetype": "text/x-python",
   "name": "python",
   "nbconvert_exporter": "python",
   "pygments_lexer": "ipython3",
   "version": "3.6.1"
  }
 },
 "nbformat": 4,
 "nbformat_minor": 2
}
